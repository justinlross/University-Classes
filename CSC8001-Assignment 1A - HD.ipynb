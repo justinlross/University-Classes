{
 "cells": [
  {
   "cell_type": "markdown",
   "metadata": {},
   "source": [
    "# CSC8001: Assignment 1"
   ]
  },
  {
   "cell_type": "markdown",
   "metadata": {},
   "source": [
    "## Part A - Literary Scrabble [60 marks]\n",
    "\n",
    "Let's play a round of Literary Scrabble: a game of Scrabble where you can only play words that appear in selected literary classics.  The functions you will write for Part A will let you answer questions like:\n",
    "\n",
    "- How many unique words does Mark Twain's book the <em>Adventures of Huckleberry Finn</em> have?\n",
    "\n",
    "- What is the highest scoring word from Lewis Carroll's <em>Alice's Adventures in Wonderland</em> that you can play with the letters 'qazvredl'?\n",
    "\n",
    "- Which books have the most words which use the letters `j` and `x`?\n",
    "\n",
    "\n",
    "For Part A complete each of the Word Analysis and Word Questions functions below.  The Word Analysis functions will provide the primary text analysis to help you answer the questions defined in this notebook. The code you write for each Word Question's function will need to call the appropriate Word Analysis function(s) and then complete any additional processing necessary to answer the specific question.  \n",
    "\n",
    "- Answers to the specific questions above have been provided for you so that you can test your code.  \n",
    "- Text files for creating word lists are available in the `books` folder."
   ]
  },
  {
   "cell_type": "code",
   "execution_count": 1,
   "metadata": {},
   "outputs": [],
   "source": [
    "from __future__ import print_function\n",
    "\n",
    "import string"
   ]
  },
  {
   "cell_type": "markdown",
   "metadata": {},
   "source": [
    "### Word Analysis"
   ]
  },
  {
   "cell_type": "markdown",
   "metadata": {},
   "source": [
    "#### Create Book Word List [12 Marks]\n",
    "\n",
    "Complete the function below which should read a book's text file, and return a sorted list (ascending) of words (i.e. - no duplicates) extracted from the book's `text_file` that also exist in the official Sowpods list of approved scrabble words.  \n",
    "\n",
    "To create your book's word list: \n",
    "- convert all characters to lowercase;  \n",
    "- replace hyphens with a single space, `' '`, to split hyphenated words into separate words; \n",
    "- strip off all contractions and possessives from words: 's, 're, etc \n",
    "- remove all punctuation, whitespace characters and numbers.\n",
    "- only keep words which also occur in the official Sowpods list\n",
    "\n",
    "HINT: The Python Standard Library provides various string constants, such as `whitespace` and `punctuation`.  You may want to review the Python Standard Library's sections on string methods and constants.\n",
    "- [String constants](https://docs.python.org/3/library/string.html#string-constants)\n",
    "- [String methods](https://docs.python.org/3/library/stdtypes.html#text-sequence-type-str)\n",
    "\n",
    "**NOTE: Creating a book's word list may take several seconds of processing time.**.  We recommend you use the smaller book file, `\"-ch1.txt\"` extracts, while you are testing your code."
   ]
  },
  {
   "cell_type": "code",
   "execution_count": 2,
   "metadata": {},
   "outputs": [],
   "source": [
    "def create_wordlist(text_file):\n",
    "    \"\"\" This function creates a wordlist of potential words that may be played in a game of scrabble from a .text document.\n",
    "        Expected output is a list of words.\n",
    "    \"\"\"\n",
    "    filePath = text_file # Converts the input text_file variable to a new name, filePath.\n",
    "    sowpodsPath = \"books/sowpods.txt\"\n",
    "    fileBookWordsList = [] #  A list for the lines of the book file, due to it being so large it needs two steps to break down.\n",
    "    bookWordsList = [] # Create a list variable called bookWordsList to be made up of words from the books.\n",
    "    fileSowpodsList = [] # A a list for the lines of the sowpod file, due to it being so large it needs two steps to break down.\n",
    "    sowpodsList = [] # Create a list variable called sowpodsList to store words from the sowpod text for comparison.\n",
    "    import string # This imports the string library of code built into python\n",
    "    import re # For the sake of reading files.\n",
    "    \n",
    "\n",
    "    #The following code is for the book file::\n",
    "    with open(filePath,'r') as file: # open the book file and refer to it as file.\n",
    "        for line in file: # For every line of text in the book file...\n",
    "            file.readline() # Read the line.\n",
    "            line = line.replace(\"\\n\",\"\") # Replace \\n with nothing.\n",
    "            line = line.replace(\".\",\"\") # Replace full stops with nothing.\n",
    "            line = line.replace(\",\",\"\") # Replace commas with nothing.\n",
    "            line = line.replace(\"?\",\"\") # Replace question marks with nothing.\n",
    "            line = line.replace(\"-\",\"\") # Replace hyphons with blank space.\n",
    "            line = line.replace('\"','') # Replace quotation marks with blank space.\n",
    "            fileBookWordsList.append(line) # Append the lines to the fileBookWordsList.\n",
    "            \n",
    "            \n",
    "    for line in fileBookWordsList: # For every line in the fileBooksWordsList...\n",
    "        for word in line.split(): # split the lines down into words.\n",
    "            word = word.casefold() # convert words are all lower case, .casefold is better than .lower in some special cases.\n",
    "            word = word.split(\"'\", maxsplit=1)[0] # Whenever an \"'\" occurs, split the word and don't preserve what is after the \"'\".\n",
    "            bookWordsList.append(word) # Adds words to bookWordsList variable after they have been processed.\n",
    "            \n",
    "    bookWordsList = [''.join(c for c in s if c not in string.punctuation) for s in bookWordsList] #Removes punctuation from list. Just in case.\n",
    "    \n",
    "    \n",
    "    #The following code is for the sowpods file::\n",
    "    with open(sowpodsPath,'r') as comparisonFile:\n",
    "        for line2 in comparisonFile:        # for every line in the comparison file...\n",
    "            comparisonFile.readline()      # Read each line in the file one by one, due to file size.    \n",
    "            line2 = line2.replace(\"\\n\",\"\")   # Replace any \\n with nothing, to get rid of it.\n",
    "            fileSowpodsList.append(line2)   # add the line to the fileSowpodsList variable.\n",
    "    for word2 in fileSowpodsList:       # for every word in the fileSowpodsList variable...\n",
    "        word2 = word2.casefold()         # change the word to lower case,.casefold is better than .lower in some special cases.\n",
    "        sowpodsList.append(word2)       # Add the word to sowpodsList\n",
    "   \n",
    "    \n",
    "    words_list = list(set(bookWordsList).intersection(set(sowpodsList))) # Only allow words that exist in both bookWordsList and sowpodsList\n",
    "    return (words_list)"
   ]
  },
  {
   "cell_type": "markdown",
   "metadata": {},
   "source": [
    "#### Word Match [8 Marks]\n",
    "\n",
    "The `word_match` function below should return `True` or `False` depending on if the `word` can be created from the provided string of `letters`. The `word` does not have to use all of the letters.  NOTE: Each letter in `letters` can only be used once.\n",
    "\n",
    "For example: \n",
    "- `word_match('toe', 'potatoe')`, returns `True`\n",
    "- `word_match('ball', 'abcledg')`, returns `False`   "
   ]
  },
  {
   "cell_type": "code",
   "execution_count": 3,
   "metadata": {},
   "outputs": [],
   "source": [
    "def word_match(word, letters):\n",
    "    \"\"\" This function grabs two input values, word and letters. 'Word' is to be compared to 'letters' to see if the letters in 'word'\n",
    "    exist in 'letters'. Note that a letter cannot be used twice from the 'letters' input.\n",
    "    Expected output is a boolean True or False, essentially finding whether the word can be made up from the letters.\n",
    "    \"\"\"\n",
    "    toCheckForUnsortedVar = word # The word to check for in the other word.\n",
    "    toCheckAgainstUnsortedVar = letters #  The word that MAY contain the word to check for.\n",
    "    toCheckForSortedVar = sorted(toCheckForUnsortedVar) # The string into a list\n",
    "    toCheckAgainstSortedVar = sorted(toCheckAgainstUnsortedVar) # The string into a list\n",
    "\n",
    "\n",
    "    checkLengthVar = len(toCheckForSortedVar) # This creates a variable to check the length of the word being searched for.\n",
    "    counter = 0 # This is a counter for the iteration through the letters.\n",
    "    for item in toCheckForUnsortedVar: # For every letter in the word being searched for 'toCheckForUnsortedVar' ...\n",
    "        if item in toCheckAgainstSortedVar: # ... and for every letter in the word to be searched against 'toCheckAgainstSortedVar'.\n",
    "            counter += 1\n",
    "            toCheckAgainstSortedVar[toCheckAgainstSortedVar.index(item)] = \"_\" # Once a match has been counted, it is removed from the list so as not to count twice.\n",
    "    finalResult = checkLengthVar == counter # If equal letter length after\n",
    "    return (finalResult)"
   ]
  },
  {
   "cell_type": "markdown",
   "metadata": {},
   "source": [
    "#### Word Score [8 Marks]\n",
    "\n",
    "The `word_score` function below should return a word's scrabble score (integer). Use the [English Scrabble letter distribution](https://en.wikipedia.org/wiki/Scrabble_letter_distribution) values to calculate the word's scrabble score.\n",
    "\n",
    "Example: the word 'affixes' `word_score` should be `20`\n",
    "\n",
    "\n",
    "Points | Letters\n",
    ":--: | :--\n",
    "1 | e, a, i, o, n, r, t, l, s, u\n",
    "2 | d, g\n",
    "3 | b, c, m, p\n",
    "4 | f, h, v, w, y\n",
    "5 | k\n",
    "8 | j, x\n",
    "10 | q, z"
   ]
  },
  {
   "cell_type": "code",
   "execution_count": 4,
   "metadata": {},
   "outputs": [],
   "source": [
    "def word_score(word):\n",
    "    \"\"\" This function calculates the point value of a specific word.\n",
    "        Expected output is an integer, which is the score of the word input into the function.\n",
    "    \"\"\"\n",
    "    word = word.casefold() # Casefold is superior as it takes more chracters into compared to lowercase.\n",
    "    wordScore = 0 # This will be used to calculate the total score of the word at the end.\n",
    "\n",
    "    onePointLetters = word.count('e') + word.count('a') + word.count('i') + word.count('o') + word.count('n') + word.count('r') + word.count('t') + word.count('l') + word.count('s') + word.count('u') # Counts and adds all the one point letters.\n",
    "    twoPointLetters = word.count('d') + word.count('g') # Counts and adds all the two point letters.\n",
    "    threePointLetters = word.count('b') + word.count('c') + word.count('m') + word.count('p') # Counts and adds all the three point letters.\n",
    "    fourPointLetters = word.count('f') + word.count('h') + word.count('v') + word.count('w') + word.count('y') # Counts and adds all the four point letters.\n",
    "    fivePointLetters = word.count('k') # Counts and adds all the five point letters.\n",
    "    eightPointLetters = word.count('j') + word.count('x') # Counts and adds all the eight point letters.\n",
    "    tenPointLetters = word.count('q') + word.count('z') # Counts and adds all the ten point letters.\n",
    "\n",
    "    wordScore = wordScore + onePointLetters + (twoPointLetters*2) + (threePointLetters*3) + (fourPointLetters*4) + (fivePointLetters*5) + (eightPointLetters*8) + (tenPointLetters*10) # First multiples each aggregate of the letter points by the associated multiplier, then adds the total.\n",
    "\n",
    "    return (wordScore)"
   ]
  },
  {
   "cell_type": "markdown",
   "metadata": {},
   "source": [
    "#### Find Words [8 Marks]\n",
    "\n",
    "You're playing Literary Scrabble where you can only play words extracted from famous books. You have pulled your letters and there are lots of possibilities but you obviously want to play a hand which will get you the highest score. \n",
    "\n",
    "Complete the `find_words` function below which should return a dictionary of valid words (selected from the provided `words_list`) that can be created from the letters provided. The keys for the returned dictionary are the words, the values are each word's scrabble score. \n",
    "\n",
    "- Use the `word_match` function above to find word/letters matches.  \n",
    "- Use the `word_score` function above to calculate each word's scrabble score.  \n"
   ]
  },
  {
   "cell_type": "code",
   "execution_count": 5,
   "metadata": {},
   "outputs": [],
   "source": [
    "def find_words(words_list, letters):\n",
    "    \"\"\" This function uses a list of words called 'words_list' to then try to make up those words\n",
    "        from some letters, assigned to the 'letter'.\n",
    "        Expected output is a dictionary with words that can be played AND next to those words their associated values.\n",
    "    \"\"\"\n",
    "    matchList = [] # will be a list of words matched between the letters and those words in the word_list variable.\n",
    "    scoreList = [] # will be the score of any words matched.\n",
    "    for word in words_list: # For every word in the word being searched for ...\n",
    "        if word_match(word, letters) == True: # maybe check the initial function to see if it has this the right way around.\n",
    "            matchList.append(word) # Add the matching word to the matchlist list.\n",
    "            scoreList.append(word_score(word)) # Add the score of the matched word to the scoreList.\n",
    "            \n",
    "    scoreMatchDict = dict(zip(matchList, scoreList)) # Creates a dictionary with each word that has a match and its corresponding score.\n",
    "    maximumScoreWord = max(scoreMatchDict, key=scoreMatchDict.get) # Finds the word with the maximum score.\n",
    "    scoreMatchDictHigh = (maximumScoreWord, scoreMatchDict[maximumScoreWord])# Finds word in the dictionary with the highest score and returns it.\n",
    "    return (scoreMatchDictHigh)"
   ]
  },
  {
   "cell_type": "markdown",
   "metadata": {
    "collapsed": true
   },
   "source": [
    "### Word Questions\n",
    "\n",
    "Each Word Question function below will need to call the appropriate Word Analysis function(s) and then inclue any additional code required to answer the specific question.\n",
    "\n",
    "#### a1: Unique words [6 Marks]\n",
    "\n",
    "Return the number (integer) of unique words contained in `text_file`.\n",
    "\n",
    ">How many unique words does Mark Twain's <em> Adventures of Huckleberry Finn</em> have?  (available in the A1 `books` folder)  \n",
    ">Answer: 422"
   ]
  },
  {
   "cell_type": "code",
   "execution_count": 6,
   "metadata": {},
   "outputs": [],
   "source": [
    "def a1(text_file):\n",
    "    \"\"\" This function finds the number of unique words in 'text_file', which is typically going to be a link to a txt file.\n",
    "        Output is expected to be an integer which is the number of unique words.\n",
    "    \"\"\" \n",
    "    \n",
    "    words= create_wordlist(text_file)    # Creates a list of words by calling the create_wordlist function.\n",
    "    uniqueWords = set(words)             # This uses a set to get rid of duplicates as a set will only store uniques.\n",
    "    uniqueWordsCount = len(uniqueWords)  # Finds the length of values in the set, and thus the number of unique words.\n",
    "    \n",
    "    return(uniqueWordsCount)"
   ]
  },
  {
   "cell_type": "code",
   "execution_count": 7,
   "metadata": {},
   "outputs": [
    {
     "data": {
      "text/plain": [
       "134"
      ]
     },
     "execution_count": 7,
     "metadata": {},
     "output_type": "execute_result"
    }
   ],
   "source": [
    "a = a1('books/adventures_of_huckleberry_finn-ch1.txt')\n",
    "a"
   ]
  },
  {
   "cell_type": "markdown",
   "metadata": {},
   "source": [
    "#### a2: Highest score [8 Marks]\n",
    "\n",
    "Your playing Literary Scrabble and its your turn.  What is the highest scoring word you can play with the letters you have based on the words from Chapter 1 of Lewis Carroll's <em>Alice's Adventures in Wonderland</em> (available in the A1 data folder).\n",
    "\n",
    ">Your available scrabble letters are 'qazrvedl'.  Whats the highest scoring word you can play?  \n",
    ">Answer: ('read', 5)"
   ]
  },
  {
   "cell_type": "code",
   "execution_count": 8,
   "metadata": {},
   "outputs": [],
   "source": [
    "def a2(text_file, letters):\n",
    "    \"\"\" This function finds the highest scoring word from Chapter 1 of Lewis Carroll's Alice's Adventures in Wonderland.\n",
    "        The expected output is the word along with its associated score.\n",
    "    \"\"\"\n",
    "    \n",
    "    words_list = create_wordlist(text_file) # Calls the create_wordlist function to create a list of words from text_file input.\n",
    "    wordsAndScores = find_words(words_list, letters) # finds words that can be made from the letters and then the highest scoring one.\n",
    "    \n",
    "    return(wordsAndScores)"
   ]
  },
  {
   "cell_type": "code",
   "execution_count": 9,
   "metadata": {},
   "outputs": [
    {
     "data": {
      "text/plain": [
       "('read', 5)"
      ]
     },
     "execution_count": 9,
     "metadata": {},
     "output_type": "execute_result"
    }
   ],
   "source": [
    "a = a2('books/alices_adventures_in_wonderland-ch1.txt','qazrvedl')\n",
    "a"
   ]
  },
  {
   "cell_type": "markdown",
   "metadata": {},
   "source": [
    "#### a3: Books with the most `j` and `x` words [10 Marks]\n",
    "\n",
    "You've just played all of your letters. According to the rules of Literary Scrabble, if you're out of letters you can choose to switch to a new literary novel but you have to do so before you choose your new letters.  \n",
    "\n",
    "You've noticed that no one has played a `j` or a `x` for awhile.  Which may mean there are still some left.  Which is good since these are high value letters, but not good if your next literary book doesn't have many words that contain those letters.  You write a function which counts how many words in a book contain certain letters. Your function accepts and returns a list of tuples, each tuple contains information for one book.  \n",
    "\n",
    "Your function is passed a list of tuples:\n",
    "[(book_ID1, text_file1), (book_ID2, text_file2), (book_ID3, text_file3)]\n",
    "\n",
    "Your function should return a list of tuples:\n",
    "[('book_ID1', word_count1), ('book_ID2', word_count2), ('book_ID3', word_count3)]\n",
    "\n",
    "> How many words in *Alices Adventures in Wonderland* and *War of the Worlds* have the letters j or x?  \n",
    ">Answer: [('Alice', 9), ('War', 24)]\n",
    "\n",
    "(The books are available in the A1 books folder)"
   ]
  },
  {
   "cell_type": "code",
   "execution_count": 10,
   "metadata": {},
   "outputs": [],
   "source": [
    "def a3(book_list, letters):\n",
    "    \"\"\" This function is passed tuples of a book's name and the associated text file:\n",
    "        \"[(book_ID1, text_file1), (book_ID2, text_file2), (book_ID3, text_file3)]\"\n",
    "        It then returns a list of tuplies of the book's name and the number of words which have letters j or x in them.\n",
    "        \"[('book_ID1', word_count1), ('book_ID2', word_count2), ('book_ID3', word_count3)]\"\n",
    "    \"\"\"       \n",
    "    tupleList = []\n",
    "    countJX = 0\n",
    "    \n",
    "    for bookName, bookPath in book_list:\n",
    "        booksWords = create_wordlist(bookPath) # calls the create_wordlist function to create a list of words.\n",
    "        matchJ = [s for s in booksWords if \"j\" in s] # Searches for words with letter j.\n",
    "        matchX = [s for s in booksWords if \"x\" in s] # Searches for words with letter x.\n",
    "        \n",
    "        \n",
    "        countJX = len(matchJ) + len(matchX) # This counts the number of matches of j and the number of matches of x.\n",
    "        bookNameMatchCount = (bookName,countJX) # Places the name of the book, bookName, and the count of words with \n",
    "        tupleList.append(bookNameMatchCount) # adds the book name and the word count to a tuple, to be displayed.\n",
    "    \n",
    "    return(tupleList)"
   ]
  },
  {
   "cell_type": "code",
   "execution_count": 11,
   "metadata": {},
   "outputs": [
    {
     "data": {
      "text/plain": [
       "[('War', 2), ('Alice', 1)]"
      ]
     },
     "execution_count": 11,
     "metadata": {},
     "output_type": "execute_result"
    }
   ],
   "source": [
    "a = a3([('War','books/war_of_the_worlds-ch1.txt'), \n",
    "         ('Alice', 'books/alices_adventures_in_wonderland-ch1.txt')], 'jx')\n",
    "a"
   ]
  },
  {
   "cell_type": "code",
   "execution_count": null,
   "metadata": {},
   "outputs": [],
   "source": []
  },
  {
   "cell_type": "code",
   "execution_count": null,
   "metadata": {},
   "outputs": [],
   "source": []
  }
 ],
 "metadata": {
  "kernelspec": {
   "display_name": "Python 3",
   "language": "python",
   "name": "python3"
  },
  "language_info": {
   "codemirror_mode": {
    "name": "ipython",
    "version": 3
   },
   "file_extension": ".py",
   "mimetype": "text/x-python",
   "name": "python",
   "nbconvert_exporter": "python",
   "pygments_lexer": "ipython3",
   "version": "3.6.4"
  }
 },
 "nbformat": 4,
 "nbformat_minor": 2
}

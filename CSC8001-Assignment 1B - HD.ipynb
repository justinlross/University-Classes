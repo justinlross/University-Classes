{
 "cells": [
  {
   "cell_type": "markdown",
   "metadata": {},
   "source": [
    "# Assignment 1: Part B\n",
    "\n",
    "## Intro to Pandas\n",
    "For the next set of questions, you will be using census data from the [United States Census Bureau](https://www2.census.gov/programs-surveys/popest/datasets/2010-2017/). Counties are political and geographic subdivisions of states in the United States. This dataset contains population data for counties and states in the US from 2010 to 2017. A copy of the data description document `co-est2017-alldata.pdf` has been provided in the A1 `data` folder.  We strongly recommend that you review this file before starting the assignment.\n",
    "\n",
    "Code to load the census data file (`co-est2017-alldata.csv`) into a DataFrame, `census_df`, has been provided below.  "
   ]
  },
  {
   "cell_type": "code",
   "execution_count": 1,
   "metadata": {},
   "outputs": [],
   "source": [
    "import pandas as pd"
   ]
  },
  {
   "cell_type": "code",
   "execution_count": 2,
   "metadata": {
    "scrolled": true
   },
   "outputs": [
    {
     "data": {
      "text/html": [
       "<div>\n",
       "<style scoped>\n",
       "    .dataframe tbody tr th:only-of-type {\n",
       "        vertical-align: middle;\n",
       "    }\n",
       "\n",
       "    .dataframe tbody tr th {\n",
       "        vertical-align: top;\n",
       "    }\n",
       "\n",
       "    .dataframe thead th {\n",
       "        text-align: right;\n",
       "    }\n",
       "</style>\n",
       "<table border=\"1\" class=\"dataframe\">\n",
       "  <thead>\n",
       "    <tr style=\"text-align: right;\">\n",
       "      <th></th>\n",
       "      <th>SUMLEV</th>\n",
       "      <th>REGION</th>\n",
       "      <th>DIVISION</th>\n",
       "      <th>STATE</th>\n",
       "      <th>COUNTY</th>\n",
       "      <th>STNAME</th>\n",
       "      <th>CTYNAME</th>\n",
       "      <th>CENSUS2010POP</th>\n",
       "      <th>ESTIMATESBASE2010</th>\n",
       "      <th>POPESTIMATE2010</th>\n",
       "      <th>...</th>\n",
       "      <th>RDOMESTICMIG2015</th>\n",
       "      <th>RDOMESTICMIG2016</th>\n",
       "      <th>RDOMESTICMIG2017</th>\n",
       "      <th>RNETMIG2011</th>\n",
       "      <th>RNETMIG2012</th>\n",
       "      <th>RNETMIG2013</th>\n",
       "      <th>RNETMIG2014</th>\n",
       "      <th>RNETMIG2015</th>\n",
       "      <th>RNETMIG2016</th>\n",
       "      <th>RNETMIG2017</th>\n",
       "    </tr>\n",
       "  </thead>\n",
       "  <tbody>\n",
       "    <tr>\n",
       "      <th>0</th>\n",
       "      <td>40</td>\n",
       "      <td>3</td>\n",
       "      <td>6</td>\n",
       "      <td>1</td>\n",
       "      <td>0</td>\n",
       "      <td>Alabama</td>\n",
       "      <td>Alabama</td>\n",
       "      <td>4779736</td>\n",
       "      <td>4780135</td>\n",
       "      <td>4785579</td>\n",
       "      <td>...</td>\n",
       "      <td>-0.317205</td>\n",
       "      <td>-0.404473</td>\n",
       "      <td>0.788882</td>\n",
       "      <td>0.450741</td>\n",
       "      <td>0.939393</td>\n",
       "      <td>1.364296</td>\n",
       "      <td>0.694271</td>\n",
       "      <td>0.678575</td>\n",
       "      <td>0.558931</td>\n",
       "      <td>1.708218</td>\n",
       "    </tr>\n",
       "    <tr>\n",
       "      <th>1</th>\n",
       "      <td>50</td>\n",
       "      <td>3</td>\n",
       "      <td>6</td>\n",
       "      <td>1</td>\n",
       "      <td>1</td>\n",
       "      <td>Alabama</td>\n",
       "      <td>Autauga County</td>\n",
       "      <td>54571</td>\n",
       "      <td>54571</td>\n",
       "      <td>54750</td>\n",
       "      <td>...</td>\n",
       "      <td>-1.950739</td>\n",
       "      <td>4.831269</td>\n",
       "      <td>1.047102</td>\n",
       "      <td>5.911832</td>\n",
       "      <td>-6.102101</td>\n",
       "      <td>-4.050282</td>\n",
       "      <td>2.099325</td>\n",
       "      <td>-1.659040</td>\n",
       "      <td>5.103709</td>\n",
       "      <td>1.317904</td>\n",
       "    </tr>\n",
       "    <tr>\n",
       "      <th>2</th>\n",
       "      <td>50</td>\n",
       "      <td>3</td>\n",
       "      <td>6</td>\n",
       "      <td>1</td>\n",
       "      <td>3</td>\n",
       "      <td>Alabama</td>\n",
       "      <td>Baldwin County</td>\n",
       "      <td>182265</td>\n",
       "      <td>182265</td>\n",
       "      <td>183110</td>\n",
       "      <td>...</td>\n",
       "      <td>17.047872</td>\n",
       "      <td>20.493601</td>\n",
       "      <td>22.383175</td>\n",
       "      <td>16.285940</td>\n",
       "      <td>17.196786</td>\n",
       "      <td>22.615285</td>\n",
       "      <td>20.380904</td>\n",
       "      <td>17.903749</td>\n",
       "      <td>21.317244</td>\n",
       "      <td>23.163873</td>\n",
       "    </tr>\n",
       "    <tr>\n",
       "      <th>3</th>\n",
       "      <td>50</td>\n",
       "      <td>3</td>\n",
       "      <td>6</td>\n",
       "      <td>1</td>\n",
       "      <td>5</td>\n",
       "      <td>Alabama</td>\n",
       "      <td>Barbour County</td>\n",
       "      <td>27457</td>\n",
       "      <td>27457</td>\n",
       "      <td>27332</td>\n",
       "      <td>...</td>\n",
       "      <td>-16.222436</td>\n",
       "      <td>-18.755525</td>\n",
       "      <td>-19.042395</td>\n",
       "      <td>0.256021</td>\n",
       "      <td>-6.822433</td>\n",
       "      <td>-8.018920</td>\n",
       "      <td>-5.549762</td>\n",
       "      <td>-16.411069</td>\n",
       "      <td>-18.947692</td>\n",
       "      <td>-19.159940</td>\n",
       "    </tr>\n",
       "    <tr>\n",
       "      <th>4</th>\n",
       "      <td>50</td>\n",
       "      <td>3</td>\n",
       "      <td>6</td>\n",
       "      <td>1</td>\n",
       "      <td>7</td>\n",
       "      <td>Alabama</td>\n",
       "      <td>Bibb County</td>\n",
       "      <td>22915</td>\n",
       "      <td>22919</td>\n",
       "      <td>22872</td>\n",
       "      <td>...</td>\n",
       "      <td>0.931388</td>\n",
       "      <td>-1.416117</td>\n",
       "      <td>-0.882983</td>\n",
       "      <td>-5.041980</td>\n",
       "      <td>-4.096646</td>\n",
       "      <td>-5.890038</td>\n",
       "      <td>1.243450</td>\n",
       "      <td>1.818424</td>\n",
       "      <td>-0.531044</td>\n",
       "      <td>0.000000</td>\n",
       "    </tr>\n",
       "  </tbody>\n",
       "</table>\n",
       "<p>5 rows × 132 columns</p>\n",
       "</div>"
      ],
      "text/plain": [
       "   SUMLEV  REGION  DIVISION  STATE  COUNTY   STNAME         CTYNAME  \\\n",
       "0      40       3         6      1       0  Alabama         Alabama   \n",
       "1      50       3         6      1       1  Alabama  Autauga County   \n",
       "2      50       3         6      1       3  Alabama  Baldwin County   \n",
       "3      50       3         6      1       5  Alabama  Barbour County   \n",
       "4      50       3         6      1       7  Alabama     Bibb County   \n",
       "\n",
       "   CENSUS2010POP  ESTIMATESBASE2010  POPESTIMATE2010     ...       \\\n",
       "0        4779736            4780135          4785579     ...        \n",
       "1          54571              54571            54750     ...        \n",
       "2         182265             182265           183110     ...        \n",
       "3          27457              27457            27332     ...        \n",
       "4          22915              22919            22872     ...        \n",
       "\n",
       "   RDOMESTICMIG2015  RDOMESTICMIG2016  RDOMESTICMIG2017  RNETMIG2011  \\\n",
       "0         -0.317205         -0.404473          0.788882     0.450741   \n",
       "1         -1.950739          4.831269          1.047102     5.911832   \n",
       "2         17.047872         20.493601         22.383175    16.285940   \n",
       "3        -16.222436        -18.755525        -19.042395     0.256021   \n",
       "4          0.931388         -1.416117         -0.882983    -5.041980   \n",
       "\n",
       "   RNETMIG2012  RNETMIG2013  RNETMIG2014  RNETMIG2015  RNETMIG2016  \\\n",
       "0     0.939393     1.364296     0.694271     0.678575     0.558931   \n",
       "1    -6.102101    -4.050282     2.099325    -1.659040     5.103709   \n",
       "2    17.196786    22.615285    20.380904    17.903749    21.317244   \n",
       "3    -6.822433    -8.018920    -5.549762   -16.411069   -18.947692   \n",
       "4    -4.096646    -5.890038     1.243450     1.818424    -0.531044   \n",
       "\n",
       "   RNETMIG2017  \n",
       "0     1.708218  \n",
       "1     1.317904  \n",
       "2    23.163873  \n",
       "3   -19.159940  \n",
       "4     0.000000  \n",
       "\n",
       "[5 rows x 132 columns]"
      ]
     },
     "execution_count": 2,
     "metadata": {},
     "output_type": "execute_result"
    }
   ],
   "source": [
    "census_df = pd.read_csv('data/co-est2017-alldata.csv', encoding='latin1')\n",
    "census_df.head()"
   ]
  },
  {
   "cell_type": "markdown",
   "metadata": {},
   "source": [
    "### b0: (example)\n",
    "What are the REGION and DIVISION for the first state in `census_df` ?\n",
    "\n",
    "*This function should return a Tuple with two values (REGION, DIVISION).*\n",
    "\n",
    ">NOTE: You should write your whole answer within the function provided. For grading purposes the value returned by each question's function will be compared against the expected answer."
   ]
  },
  {
   "cell_type": "code",
   "execution_count": 3,
   "metadata": {},
   "outputs": [],
   "source": [
    "def b0():\n",
    "    state_df = census_df[census_df['SUMLEV'] == 40]\n",
    "    return (state_df.iloc[0]['REGION'], state_df.iloc[0]['DIVISION'])"
   ]
  },
  {
   "cell_type": "code",
   "execution_count": 4,
   "metadata": {},
   "outputs": [
    {
     "data": {
      "text/plain": [
       "True"
      ]
     },
     "execution_count": 4,
     "metadata": {},
     "output_type": "execute_result"
    }
   ],
   "source": [
    "def test_b0():\n",
    "    region, division = b0()\n",
    "    if (region, division) == (3,6):\n",
    "        return True\n",
    "    return False\n",
    "\n",
    "test_b0()"
   ]
  },
  {
   "cell_type": "markdown",
   "metadata": {},
   "source": [
    "### Setup Analysis DataFrame \n",
    " \n",
    "Before we start our data analysis we want to do some initial processing on the raw data.  \n",
    "\n",
    "Copy `census_df` into a new DataFrame `co_df`. Update `co_df` to meet the following requirements:\n",
    "\n",
    "- remove *State and/or Statistical Equivalent data*\n",
    "- remove `STATE`, `SUMLEV`, and `COUNTY` columns\n",
    "- rename  `STNAME` column to `STATE`\n",
    "- rename  `CTYNAME` column to `COUNTY`\n",
    "- replace the index values for Region and Division with their corresponding string values<sup>1</sup>\n",
    "\n",
    "**IMPORTANT:** Write your code to update `co_df` in the code cell below - outside of the `b1()` function - to avoid aliasing problems.\n",
    "\n",
    "\n",
    "(<sup>1</sup>see the data information sheet: co-est2017-alldata.pdf)"
   ]
  },
  {
   "cell_type": "code",
   "execution_count": 5,
   "metadata": {},
   "outputs": [],
   "source": [
    "co_df = census_df # Rename census_df to co_df\n",
    "co_df = co_df[co_df.SUMLEV != 40] # Choose only SUMLEV that is not 40, as 40 is state specific data.\n",
    "del co_df['STATE'] # Remove state from co_df.\n",
    "del co_df['SUMLEV'] # Remove SUMLEV from co_df.\n",
    "del co_df['COUNTY'] # Remove county from co_df.\n",
    "co_df = co_df.rename(columns={'STNAME': 'STATE', 'CTYNAME': 'COUNTY'}) # Rename STNAME to STATE and CTYNAME to COUNTY.\n",
    "regionDict = {1:'Northeast',2:'Midwest',3:'South',4:'West'} # A dictionary of regions and their new values.\n",
    "co_df['REGION'] = co_df['REGION'].replace(regionDict) # This goes in and replaces region values with the associated regionDict value.\n",
    "divisionDict = {1:'New England',2:'Middle Atlantic',3:'East North Central',4:'West North Central',5:'South Atlantic',6:'East South Central',7:'West South Central',8:'Mountain',9:'Pacific'} # A dictionary of divisions and their new values.\n",
    "co_df['DIVISION'] = co_df['DIVISION'].replace(divisionDict) # This goes in and replaces division values with the associated divisionDict value.\n"
   ]
  },
  {
   "cell_type": "markdown",
   "metadata": {},
   "source": [
    "### b1: [6 marks]\n",
    "Test for correct setup, function should return the tuple below:\n",
    "```python\n",
    "(['District of Columbia'],\n",
    " ['East South Central',\n",
    "  'Pacific',\n",
    "  'Mountain',\n",
    "  'West South Central',\n",
    "  'New England',\n",
    "  'South Atlantic',\n",
    "  'East North Central',\n",
    "  'West North Central',\n",
    "  'Middle Atlantic'],\n",
    " ['South', 'West', 'Northeast', 'Midwest'])\n",
    "```"
   ]
  },
  {
   "cell_type": "code",
   "execution_count": 6,
   "metadata": {},
   "outputs": [],
   "source": [
    "def b1():\n",
    "    \"\"\" function runs verification tests on the co_df dataframe setup.  \n",
    "        Output should be compared to expected values for confirmation.\n",
    "    \n",
    "    returns: tuple of three lists.  \n",
    "        list 1: confirms State and/or Statistical Equivalent data removed\n",
    "        list 2: confirms division numbers replaced by names\n",
    "        list 3: confirms region numbers replaced by names    \n",
    "    \"\"\"\n",
    "    state = co_df.loc[co_df.STATE == co_df.COUNTY]['STATE']\n",
    "    div = co_df['DIVISION'].unique()\n",
    "    region = co_df['REGION'].unique()\n",
    "    return (list(state), list(div), list(region))"
   ]
  },
  {
   "cell_type": "code",
   "execution_count": 7,
   "metadata": {},
   "outputs": [
    {
     "data": {
      "text/plain": [
       "(['District of Columbia'],\n",
       " ['East South Central',\n",
       "  'Pacific',\n",
       "  'Mountain',\n",
       "  'West South Central',\n",
       "  'New England',\n",
       "  'South Atlantic',\n",
       "  'East North Central',\n",
       "  'West North Central',\n",
       "  'Middle Atlantic'],\n",
       " ['South', 'West', 'Northeast', 'Midwest'])"
      ]
     },
     "execution_count": 7,
     "metadata": {},
     "output_type": "execute_result"
    }
   ],
   "source": [
    "b1()"
   ]
  },
  {
   "cell_type": "markdown",
   "metadata": {},
   "source": [
    "### b2: [8 marks]\n",
    "Which states and counties in the New England or Middle Atlantic divisions, with a county name that starts with 'P', had a higher net migration in 2016 than 2017. <br>*Return a data frame with columns for state and county.*"
   ]
  },
  {
   "cell_type": "code",
   "execution_count": 8,
   "metadata": {},
   "outputs": [],
   "source": [
    "def b2():\n",
    "    \"\"\" function finds states and counties in New England or Middle Atlantic Divisions, with county names starting with P,\n",
    "        that had a higher net migration in 2016 than 2017.\n",
    "        Output should be a data frame with county and state columns, and an indeterminate number of rows.   \n",
    "    \"\"\"\n",
    "    highNetMig_df = (co_df.loc[co_df['DIVISION'].isin(['New England','Middle Atlantic'])]) # Choose New England OR Middle Atlantic div.\n",
    "    highNetMig_df = highNetMig_df[highNetMig_df['COUNTY'].str.startswith(\"P\")] # Find counties starting with P.\n",
    "    highNetMig_df = highNetMig_df[highNetMig_df['RNETMIG2016'] > (highNetMig_df['RNETMIG2017'])] # Checks if higher net migration in 2016 over 2017.\n",
    "    highNetMig_df = highNetMig_df[['COUNTY','STATE']] # Selects only county and state to be displayed.\n",
    "    return (highNetMig_df)"
   ]
  },
  {
   "cell_type": "code",
   "execution_count": 9,
   "metadata": {},
   "outputs": [
    {
     "data": {
      "text/html": [
       "<div>\n",
       "<style scoped>\n",
       "    .dataframe tbody tr th:only-of-type {\n",
       "        vertical-align: middle;\n",
       "    }\n",
       "\n",
       "    .dataframe tbody tr th {\n",
       "        vertical-align: top;\n",
       "    }\n",
       "\n",
       "    .dataframe thead th {\n",
       "        text-align: right;\n",
       "    }\n",
       "</style>\n",
       "<table border=\"1\" class=\"dataframe\">\n",
       "  <thead>\n",
       "    <tr style=\"text-align: right;\">\n",
       "      <th></th>\n",
       "      <th>COUNTY</th>\n",
       "      <th>STATE</th>\n",
       "    </tr>\n",
       "  </thead>\n",
       "  <tbody>\n",
       "    <tr>\n",
       "      <th>1207</th>\n",
       "      <td>Piscataquis County</td>\n",
       "      <td>Maine</td>\n",
       "    </tr>\n",
       "    <tr>\n",
       "      <th>2335</th>\n",
       "      <td>Potter County</td>\n",
       "      <td>Pennsylvania</td>\n",
       "    </tr>\n",
       "    <tr>\n",
       "      <th>2354</th>\n",
       "      <td>Providence County</td>\n",
       "      <td>Rhode Island</td>\n",
       "    </tr>\n",
       "  </tbody>\n",
       "</table>\n",
       "</div>"
      ],
      "text/plain": [
       "                  COUNTY         STATE\n",
       "1207  Piscataquis County         Maine\n",
       "2335       Potter County  Pennsylvania\n",
       "2354   Providence County  Rhode Island"
      ]
     },
     "execution_count": 9,
     "metadata": {},
     "output_type": "execute_result"
    }
   ],
   "source": [
    "b2()"
   ]
  },
  {
   "cell_type": "markdown",
   "metadata": {},
   "source": [
    "### b3: [6 marks]\n",
    "Which five counties in the United States had the highest birth rates from 1 July 2016 to 30 June 2017?  <br>*Return a 5 x 2 data frame with columns for county and birth rates, sorted in descending order.*"
   ]
  },
  {
   "cell_type": "code",
   "execution_count": 10,
   "metadata": {},
   "outputs": [],
   "source": [
    "def b3():\n",
    "    \"\"\" function finds the top five counties with the highest birth rates between 1 July 2016 to 30 June 2017\n",
    "        Output should be a 5x2 data frame.   \n",
    "    \"\"\"\n",
    "    \n",
    "    topFiveCounties_df = co_df.nlargest(5, 'BIRTHS2017') # This chooses the counties with the top 5 births between the dates.\n",
    "    topFiveCounties_df = topFiveCounties_df[['COUNTY','BIRTHS2017']] # This displays county and births2017 columns only.\n",
    "    topFiveCounties_df = topFiveCounties_df.sort_values(by=['BIRTHS2017'],ascending=False) # Attempt to get rid of key. Failed.\n",
    "    return (topFiveCounties_df)"
   ]
  },
  {
   "cell_type": "code",
   "execution_count": 11,
   "metadata": {},
   "outputs": [
    {
     "data": {
      "text/html": [
       "<div>\n",
       "<style scoped>\n",
       "    .dataframe tbody tr th:only-of-type {\n",
       "        vertical-align: middle;\n",
       "    }\n",
       "\n",
       "    .dataframe tbody tr th {\n",
       "        vertical-align: top;\n",
       "    }\n",
       "\n",
       "    .dataframe thead th {\n",
       "        text-align: right;\n",
       "    }\n",
       "</style>\n",
       "<table border=\"1\" class=\"dataframe\">\n",
       "  <thead>\n",
       "    <tr style=\"text-align: right;\">\n",
       "      <th></th>\n",
       "      <th>COUNTY</th>\n",
       "      <th>BIRTHS2017</th>\n",
       "    </tr>\n",
       "  </thead>\n",
       "  <tbody>\n",
       "    <tr>\n",
       "      <th>209</th>\n",
       "      <td>Los Angeles County</td>\n",
       "      <td>122923</td>\n",
       "    </tr>\n",
       "    <tr>\n",
       "      <th>2667</th>\n",
       "      <td>Harris County</td>\n",
       "      <td>73172</td>\n",
       "    </tr>\n",
       "    <tr>\n",
       "      <th>624</th>\n",
       "      <td>Cook County</td>\n",
       "      <td>66843</td>\n",
       "    </tr>\n",
       "    <tr>\n",
       "      <th>106</th>\n",
       "      <td>Maricopa County</td>\n",
       "      <td>55050</td>\n",
       "    </tr>\n",
       "    <tr>\n",
       "      <th>227</th>\n",
       "      <td>San Diego County</td>\n",
       "      <td>43652</td>\n",
       "    </tr>\n",
       "  </tbody>\n",
       "</table>\n",
       "</div>"
      ],
      "text/plain": [
       "                  COUNTY  BIRTHS2017\n",
       "209   Los Angeles County      122923\n",
       "2667       Harris County       73172\n",
       "624          Cook County       66843\n",
       "106      Maricopa County       55050\n",
       "227     San Diego County       43652"
      ]
     },
     "execution_count": 11,
     "metadata": {},
     "output_type": "execute_result"
    }
   ],
   "source": [
    "b3()"
   ]
  },
  {
   "cell_type": "markdown",
   "metadata": {},
   "source": [
    "### b4: [6 marks]\n",
    "How many unique county names are located in the West region, Mountain division?  <br>*This function should return an integer.*"
   ]
  },
  {
   "cell_type": "code",
   "execution_count": 12,
   "metadata": {},
   "outputs": [],
   "source": [
    "def b4():\n",
    "    \"\"\" function finds the number of unique county names located in the West region and the mountain division.\n",
    "        Output should be an integer.\n",
    "    \"\"\"\n",
    "    unWestMtCty_df = co_df # assigns co_df to unWestMtCty_df, to avoid issues.\n",
    "    unWestMtCty_df = unWestMtCty_df.loc[(unWestMtCty_df['DIVISION'] == 'Mountain') & (unWestMtCty_df['REGION'] == 'West')] # selects the mountain div and west region only.\n",
    "    unWestMtCty_df = unWestMtCty_df['COUNTY'].nunique() # This counts the number of unique county names.\n",
    "    return(unWestMtCty_df)"
   ]
  },
  {
   "cell_type": "code",
   "execution_count": 13,
   "metadata": {
    "scrolled": true
   },
   "outputs": [
    {
     "data": {
      "text/plain": [
       "239"
      ]
     },
     "execution_count": 13,
     "metadata": {},
     "output_type": "execute_result"
    }
   ],
   "source": [
    "b4()"
   ]
  },
  {
   "cell_type": "markdown",
   "metadata": {},
   "source": [
    "### b5: [6 marks]\n",
    "What are the four most common county names across all states? <br>*This function should return a series object with county names and their frequency, i.e. Dupage County  24*"
   ]
  },
  {
   "cell_type": "code",
   "execution_count": 14,
   "metadata": {},
   "outputs": [],
   "source": [
    "def b5():    \n",
    "    \"\"\" function finds the four most common county names across all states\n",
    "        Output should be the counties name followed by the count.  \n",
    "    \"\"\"\n",
    "    freq_df = co_df['COUNTY'].value_counts() # Orders the counties by the frequency which the value occurs, in descending.\n",
    "    ordFreq_df = freq_df.head(4) # Selects only the top 4 most common county names.\n",
    "    return(ordFreq_df)"
   ]
  },
  {
   "cell_type": "code",
   "execution_count": 15,
   "metadata": {},
   "outputs": [
    {
     "data": {
      "text/plain": [
       "Washington County    30\n",
       "Jefferson County     25\n",
       "Franklin County      24\n",
       "Lincoln County       23\n",
       "Name: COUNTY, dtype: int64"
      ]
     },
     "execution_count": 15,
     "metadata": {},
     "output_type": "execute_result"
    }
   ],
   "source": [
    "b5()"
   ]
  },
  {
   "cell_type": "markdown",
   "metadata": {},
   "source": [
    "### b6: [8 marks]\n",
    "Which three states had the highest **total** net international migration from 1 July 2013 through to 30 **June** <em>(updated)</em> 2017? <br>*This function should return a series object with state names and their total net international migration over the four year period.*"
   ]
  },
  {
   "cell_type": "code",
   "execution_count": 16,
   "metadata": {},
   "outputs": [],
   "source": [
    "def b6():\n",
    "    \"\"\" function finds the three states with the highest total net international migration from 1 July 2013 to 30 June 2017\n",
    "        Output should be a 2x3 series.   \n",
    "    \"\"\"\n",
    "    migrationCounts_df = co_df # Creates a new dataframe migrationCounts_df that is a copy of co_df.\n",
    "    migrationCounts_df['TOTAL NET MIGRATION'] = migrationCounts_df['NETMIG2014'] + migrationCounts_df['NETMIG2015'] + migrationCounts_df['NETMIG2016'] + migrationCounts_df['NETMIG2017'] # Aggregates the net migration from 01 July 2013 to 30 June 2017 as this is multiple columns. Create new column for this aggregation called 'TOTAL NET MIGRATION'\n",
    "    migrationCounts_df = migrationCounts_df.groupby('STATE')['TOTAL NET MIGRATION'].count().reset_index() # Reset order/indexing.\n",
    "    migrationCounts_df = migrationCounts_df.sort_values('TOTAL NET MIGRATION', ascending=False) # Sort in descending order.\n",
    "    migrationCounts_df = migrationCounts_df.head(3) # Choose only the top 3.\n",
    "    migrationCounts_df = migrationCounts_df.T.squeeze() # This converts the dataframe into a series object.\n",
    "    return(migrationCounts_df)"
   ]
  },
  {
   "cell_type": "code",
   "execution_count": 17,
   "metadata": {},
   "outputs": [
    {
     "data": {
      "text/html": [
       "<div>\n",
       "<style scoped>\n",
       "    .dataframe tbody tr th:only-of-type {\n",
       "        vertical-align: middle;\n",
       "    }\n",
       "\n",
       "    .dataframe tbody tr th {\n",
       "        vertical-align: top;\n",
       "    }\n",
       "\n",
       "    .dataframe thead th {\n",
       "        text-align: right;\n",
       "    }\n",
       "</style>\n",
       "<table border=\"1\" class=\"dataframe\">\n",
       "  <thead>\n",
       "    <tr style=\"text-align: right;\">\n",
       "      <th></th>\n",
       "      <th>43</th>\n",
       "      <th>10</th>\n",
       "      <th>46</th>\n",
       "    </tr>\n",
       "  </thead>\n",
       "  <tbody>\n",
       "    <tr>\n",
       "      <th>STATE</th>\n",
       "      <td>Texas</td>\n",
       "      <td>Georgia</td>\n",
       "      <td>Virginia</td>\n",
       "    </tr>\n",
       "    <tr>\n",
       "      <th>TOTAL NET MIGRATION</th>\n",
       "      <td>254</td>\n",
       "      <td>159</td>\n",
       "      <td>133</td>\n",
       "    </tr>\n",
       "  </tbody>\n",
       "</table>\n",
       "</div>"
      ],
      "text/plain": [
       "                        43       10        46\n",
       "STATE                Texas  Georgia  Virginia\n",
       "TOTAL NET MIGRATION    254      159       133"
      ]
     },
     "execution_count": 17,
     "metadata": {},
     "output_type": "execute_result"
    }
   ],
   "source": [
    "b6()"
   ]
  },
  {
   "cell_type": "code",
   "execution_count": null,
   "metadata": {},
   "outputs": [],
   "source": []
  }
 ],
 "metadata": {
  "kernelspec": {
   "display_name": "Python 3",
   "language": "python",
   "name": "python3"
  },
  "language_info": {
   "codemirror_mode": {
    "name": "ipython",
    "version": 3
   },
   "file_extension": ".py",
   "mimetype": "text/x-python",
   "name": "python",
   "nbconvert_exporter": "python",
   "pygments_lexer": "ipython3",
   "version": "3.6.4"
  }
 },
 "nbformat": 4,
 "nbformat_minor": 2
}
